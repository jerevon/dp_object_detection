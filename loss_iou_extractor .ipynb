{
 "cells": [
  {
   "cell_type": "code",
   "execution_count": 2,
   "metadata": {},
   "outputs": [],
   "source": [
    "import inspect \n",
    "import os\n",
    "import random\n",
    "import sys\n",
    "\n",
    "def extract_log(log_file, new_log_file, key_word):\n",
    "    with open (log_file, 'r') as f:\n",
    "        with open(new_log_file, 'w') as train_log:\n",
    "            for line in f:\n",
    "                # 去除多GPU的同步log\n",
    "                if 'Syncing' in line:\n",
    "                    continue\n",
    "                if 'nan' in line:\n",
    "                    continue\n",
    "                if key_word in line:\n",
    "                    train_log.write(line)\n",
    "        f.close()\n",
    "        train_log.close()\n",
    "\n"
   ]
  },
  {
   "cell_type": "code",
   "execution_count": 4,
   "metadata": {},
   "outputs": [],
   "source": [
    "\n",
    "extract_log('E:\\\\Downloads\\\\paper_weed_detection\\\\images\\\\sugarbeet-bindweed-trainlog.txt','train_log_loss.txt','images')\n",
    "# extract_log('train_yolov3.log','train_log_iou.txt','IOU')\n"
   ]
  },
  {
   "cell_type": "code",
   "execution_count": 27,
   "metadata": {},
   "outputs": [
    {
     "data": {
      "text/plain": [
       "<matplotlib.text.Text at 0x2144d3eca58>"
      ]
     },
     "execution_count": 27,
     "metadata": {},
     "output_type": "execute_result"
    },
    {
     "data": {
      "image/png": "[encoded data removed]",
      "text/plain": [
       "<matplotlib.figure.Figure at 0x2144cd7d080>"
      ]
     },
     "metadata": {},
     "output_type": "display_data"
    }
   ],
   "source": [
    "import pandas as pd\n",
    "import numpy as np\n",
    "import matplotlib.pyplot as plt \n",
    "%matplotlib inline\n",
    "lines = 64000\n",
    "result = pd.read_csv('train_log_loss.txt', skiprows=[x for x in range(201,lines) if ((x%10!=9)|(x<1000))], error_bad_lines=False,\\\n",
    "                    names = ['loss','avg','rate','seconds','images'])\n",
    "result.head()\n",
    "\n",
    "result['loss'] = result['loss'].str.split(' ').str.get(1)\n",
    "result['avg'] = result['avg'].str.split(' ').str.get(1)\n",
    "result['rate']=result['rate'].str.split(' ').str.get(1)\n",
    "result['seconds']=result['seconds'].str.split(' ').str.get(1)\n",
    "result['images']=result['images'].str.split(' ').str.get(1)\n",
    "result.head()\n",
    "\n",
    "## convert data type to numeric result\n",
    "result['loss'] = pd.to_numeric(result['loss'])\n",
    "result['avg'] = pd.to_numeric(result['avg'])\n",
    "\n",
    "result['rate']=pd.to_numeric(result['rate'])\n",
    "result['seconds']=pd.to_numeric(result['seconds'])\n",
    "result['images']=pd.to_numeric(result['images'])\n",
    "result.dtypes\n",
    "\n",
    "fig = plt.figure()\n",
    "ax = fig.add_subplot(1,1,1)\n",
    "ax.plot(result['avg'].values, label = 'avg_loss')\n",
    "ax.legend(loc = 'best')\n",
    "ax.set_title('the loss curves')\n"
   ]
  },
  {
   "cell_type": "code",
   "execution_count": null,
   "metadata": {},
   "outputs": [],
   "source": []
  }
 ],
 "metadata": {
  "kernelspec": {
   "display_name": "Python 3",
   "language": "python",
   "name": "python3"
  },
  "language_info": {
   "codemirror_mode": {
    "name": "ipython",
    "version": 3
   },
   "file_extension": ".py",
   "mimetype": "text/x-python",
   "name": "python",
   "nbconvert_exporter": "python",
   "pygments_lexer": "ipython3",
   "version": "3.5.4"
  }
 },
 "nbformat": 4,
 "nbformat_minor": 2
}
